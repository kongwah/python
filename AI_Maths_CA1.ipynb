{
  "nbformat": 4,
  "nbformat_minor": 0,
  "metadata": {
    "colab": {
      "name": "AI-Maths-CA1.ipynb",
      "provenance": [],
      "collapsed_sections": []
    },
    "kernelspec": {
      "name": "python3",
      "display_name": "Python 3"
    }
  },
  "cells": [
    {
      "cell_type": "code",
      "metadata": {
        "id": "USNwVPz8vsXW",
        "colab_type": "code",
        "colab": {}
      },
      "source": [
        "import pandas as pd\n",
        "import matplotlib.pyplot as plt\n",
        "import seaborn as sns; sns.set()\n",
        "import numpy as np\n",
        "import os"
      ],
      "execution_count": 0,
      "outputs": []
    },
    {
      "cell_type": "code",
      "metadata": {
        "id": "Vbiy1sUqv3dd",
        "colab_type": "code",
        "colab": {}
      },
      "source": [
        "# Python notebook cell to show more output, rather than just showing the last\n",
        "from IPython.core.interactiveshell import InteractiveShell\n",
        "InteractiveShell.ast_node_interactivity = \"all\"\n",
        "\n",
        "# pandas option to show more columns, rather than truncating some in the middle\n",
        "pd.set_option('display.max_rows', None)\n",
        "pd.set_option('display.max_columns', 20)\n",
        "pd.set_option('display.width', 200)\n",
        "pd.set_option('display.max_colwidth', -1)"
      ],
      "execution_count": 0,
      "outputs": []
    },
    {
      "cell_type": "code",
      "metadata": {
        "id": "H3PQjeBAv5tG",
        "colab_type": "code",
        "outputId": "fa7e64d6-baec-412b-fe98-ad7f6bd9bbe5",
        "colab": {
          "base_uri": "https://localhost:8080/",
          "height": 202
        }
      },
      "source": [
        "data = pd.read_csv(\"cars.csv\")\n",
        "#print(data)\n",
        "data.head()"
      ],
      "execution_count": 4,
      "outputs": [
        {
          "output_type": "execute_result",
          "data": {
            "text/html": [
              "<div>\n",
              "<style scoped>\n",
              "    .dataframe tbody tr th:only-of-type {\n",
              "        vertical-align: middle;\n",
              "    }\n",
              "\n",
              "    .dataframe tbody tr th {\n",
              "        vertical-align: top;\n",
              "    }\n",
              "\n",
              "    .dataframe thead th {\n",
              "        text-align: right;\n",
              "    }\n",
              "</style>\n",
              "<table border=\"1\" class=\"dataframe\">\n",
              "  <thead>\n",
              "    <tr style=\"text-align: right;\">\n",
              "      <th></th>\n",
              "      <th>Vehicle Name</th>\n",
              "      <th>Type</th>\n",
              "      <th>Drive</th>\n",
              "      <th>Retail</th>\n",
              "      <th>Dealer</th>\n",
              "      <th>Engine</th>\n",
              "      <th>Cylinders</th>\n",
              "      <th>Horsepower</th>\n",
              "      <th>CityMPG</th>\n",
              "      <th>HighwayMPG</th>\n",
              "      <th>Weight</th>\n",
              "      <th>Wheelbase</th>\n",
              "      <th>Length</th>\n",
              "      <th>Width</th>\n",
              "    </tr>\n",
              "  </thead>\n",
              "  <tbody>\n",
              "    <tr>\n",
              "      <th>0</th>\n",
              "      <td>Acura 3.5 RL</td>\n",
              "      <td>Sedan</td>\n",
              "      <td>Front-wheel</td>\n",
              "      <td>43755</td>\n",
              "      <td>39014</td>\n",
              "      <td>3.5</td>\n",
              "      <td>6</td>\n",
              "      <td>225</td>\n",
              "      <td>18</td>\n",
              "      <td>24</td>\n",
              "      <td>3880</td>\n",
              "      <td>115</td>\n",
              "      <td>197</td>\n",
              "      <td>72</td>\n",
              "    </tr>\n",
              "    <tr>\n",
              "      <th>1</th>\n",
              "      <td>Acura 3.5 RL Navigation</td>\n",
              "      <td>Sedan</td>\n",
              "      <td>Front-wheel</td>\n",
              "      <td>46100</td>\n",
              "      <td>41100</td>\n",
              "      <td>3.5</td>\n",
              "      <td>6</td>\n",
              "      <td>225</td>\n",
              "      <td>18</td>\n",
              "      <td>24</td>\n",
              "      <td>3893</td>\n",
              "      <td>115</td>\n",
              "      <td>197</td>\n",
              "      <td>72</td>\n",
              "    </tr>\n",
              "    <tr>\n",
              "      <th>2</th>\n",
              "      <td>Acura MDX</td>\n",
              "      <td>SUV</td>\n",
              "      <td>All-wheel</td>\n",
              "      <td>36945</td>\n",
              "      <td>33337</td>\n",
              "      <td>3.5</td>\n",
              "      <td>6</td>\n",
              "      <td>265</td>\n",
              "      <td>17</td>\n",
              "      <td>23</td>\n",
              "      <td>4451</td>\n",
              "      <td>106</td>\n",
              "      <td>189</td>\n",
              "      <td>77</td>\n",
              "    </tr>\n",
              "    <tr>\n",
              "      <th>3</th>\n",
              "      <td>Acura NSX S</td>\n",
              "      <td>Sports</td>\n",
              "      <td>Rear-wheel</td>\n",
              "      <td>89765</td>\n",
              "      <td>79978</td>\n",
              "      <td>3.2</td>\n",
              "      <td>6</td>\n",
              "      <td>290</td>\n",
              "      <td>17</td>\n",
              "      <td>24</td>\n",
              "      <td>3153</td>\n",
              "      <td>100</td>\n",
              "      <td>174</td>\n",
              "      <td>71</td>\n",
              "    </tr>\n",
              "    <tr>\n",
              "      <th>4</th>\n",
              "      <td>Acura RSX</td>\n",
              "      <td>Sedan</td>\n",
              "      <td>Front-wheel</td>\n",
              "      <td>23820</td>\n",
              "      <td>21761</td>\n",
              "      <td>2.0</td>\n",
              "      <td>4</td>\n",
              "      <td>200</td>\n",
              "      <td>24</td>\n",
              "      <td>31</td>\n",
              "      <td>2778</td>\n",
              "      <td>101</td>\n",
              "      <td>172</td>\n",
              "      <td>68</td>\n",
              "    </tr>\n",
              "  </tbody>\n",
              "</table>\n",
              "</div>"
            ],
            "text/plain": [
              "              Vehicle Name    Type        Drive  Retail  Dealer  Engine  Cylinders  Horsepower  CityMPG  HighwayMPG  Weight  Wheelbase  Length  Width\n",
              "0  Acura 3.5 RL             Sedan   Front-wheel  43755   39014   3.5     6          225         18       24          3880    115        197     72   \n",
              "1  Acura 3.5 RL Navigation  Sedan   Front-wheel  46100   41100   3.5     6          225         18       24          3893    115        197     72   \n",
              "2  Acura MDX                SUV     All-wheel    36945   33337   3.5     6          265         17       23          4451    106        189     77   \n",
              "3  Acura NSX S              Sports  Rear-wheel   89765   79978   3.2     6          290         17       24          3153    100        174     71   \n",
              "4  Acura RSX                Sedan   Front-wheel  23820   21761   2.0     4          200         24       31          2778    101        172     68   "
            ]
          },
          "metadata": {
            "tags": []
          },
          "execution_count": 4
        }
      ]
    },
    {
      "cell_type": "code",
      "metadata": {
        "id": "whYJwjKaxBkS",
        "colab_type": "code",
        "outputId": "99e4fe87-a506-4d6e-f17e-2de5782285f6",
        "colab": {
          "base_uri": "https://localhost:8080/",
          "height": 202
        }
      },
      "source": [
        "price_weight_horsepower = data[['Retail','Weight','Horsepower']]\n",
        "price_weight_horsepower.head()"
      ],
      "execution_count": 31,
      "outputs": [
        {
          "output_type": "execute_result",
          "data": {
            "text/html": [
              "<div>\n",
              "<style scoped>\n",
              "    .dataframe tbody tr th:only-of-type {\n",
              "        vertical-align: middle;\n",
              "    }\n",
              "\n",
              "    .dataframe tbody tr th {\n",
              "        vertical-align: top;\n",
              "    }\n",
              "\n",
              "    .dataframe thead th {\n",
              "        text-align: right;\n",
              "    }\n",
              "</style>\n",
              "<table border=\"1\" class=\"dataframe\">\n",
              "  <thead>\n",
              "    <tr style=\"text-align: right;\">\n",
              "      <th></th>\n",
              "      <th>Retail</th>\n",
              "      <th>Weight</th>\n",
              "      <th>Horsepower</th>\n",
              "    </tr>\n",
              "  </thead>\n",
              "  <tbody>\n",
              "    <tr>\n",
              "      <th>0</th>\n",
              "      <td>43755</td>\n",
              "      <td>3880</td>\n",
              "      <td>225</td>\n",
              "    </tr>\n",
              "    <tr>\n",
              "      <th>1</th>\n",
              "      <td>46100</td>\n",
              "      <td>3893</td>\n",
              "      <td>225</td>\n",
              "    </tr>\n",
              "    <tr>\n",
              "      <th>2</th>\n",
              "      <td>36945</td>\n",
              "      <td>4451</td>\n",
              "      <td>265</td>\n",
              "    </tr>\n",
              "    <tr>\n",
              "      <th>3</th>\n",
              "      <td>89765</td>\n",
              "      <td>3153</td>\n",
              "      <td>290</td>\n",
              "    </tr>\n",
              "    <tr>\n",
              "      <th>4</th>\n",
              "      <td>23820</td>\n",
              "      <td>2778</td>\n",
              "      <td>200</td>\n",
              "    </tr>\n",
              "  </tbody>\n",
              "</table>\n",
              "</div>"
            ],
            "text/plain": [
              "   Retail  Weight  Horsepower\n",
              "0  43755   3880    225       \n",
              "1  46100   3893    225       \n",
              "2  36945   4451    265       \n",
              "3  89765   3153    290       \n",
              "4  23820   2778    200       "
            ]
          },
          "metadata": {
            "tags": []
          },
          "execution_count": 31
        }
      ]
    },
    {
      "cell_type": "code",
      "metadata": {
        "id": "svtcELyfvbU6",
        "colab_type": "code",
        "colab": {}
      },
      "source": [
        "# use sklearn StandardScaler to standardize the data to mean 0, standard deviation 1,  Z=(X-u)/s\n",
        "from sklearn.preprocessing import StandardScaler\n",
        "scaler = StandardScaler()"
      ],
      "execution_count": 0,
      "outputs": []
    },
    {
      "cell_type": "code",
      "metadata": {
        "id": "vWxfoInbxJ-b",
        "colab_type": "code",
        "outputId": "63ca378d-270b-4907-84ba-31028510a0b7",
        "colab": {
          "base_uri": "https://localhost:8080/",
          "height": 381
        }
      },
      "source": [
        "scaled_price_weight_horsepower = scaler.fit_transform(price_weight_horsepower)\n",
        "print(price_weight_horsepower.head(10))\n",
        "for i in range(10):\n",
        "  print('{0:2d}-->'.format(i),end=\"\")\n",
        "  print('price:{0:9.6f}  '.format(scaled_price_weight_horsepower[i][0]),end=\"\")\n",
        "  print('weight:{0:9.6f}  '.format(scaled_price_weight_horsepower[i][1]),end=\"\")\n",
        "  print('horsepower:{0:9.6f}  '.format(scaled_price_weight_horsepower[i][2]),end=\"\")\n",
        "  print('')"
      ],
      "execution_count": 32,
      "outputs": [
        {
          "output_type": "stream",
          "text": [
            "   Retail  Weight  Horsepower\n",
            "0  43755   3880    225       \n",
            "1  46100   3893    225       \n",
            "2  36945   4451    265       \n",
            "3  89765   3153    290       \n",
            "4  23820   2778    200       \n",
            "5  33195   3575    270       \n",
            "6  26990   3230    200       \n",
            "7  25940   3252    170       \n",
            "8  35940   3638    170       \n",
            "9  42490   3814    220       \n",
            " 0-->price: 0.534227  weight: 0.492905  horsepower: 0.150424  \n",
            " 1-->price: 0.653268  weight: 0.511342  horsepower: 0.150424  \n",
            " 2-->price: 0.188527  weight: 1.302729  horsepower: 0.720452  \n",
            " 3-->price: 2.869863  weight:-0.538168  horsepower: 1.076720  \n",
            " 4-->price:-0.477746  weight:-1.070014  horsepower:-0.205843  \n",
            " 5-->price:-0.001837  weight: 0.060336  horsepower: 0.791706  \n",
            " 6-->price:-0.316825  weight:-0.428962  horsepower:-0.205843  \n",
            " 7-->price:-0.370127  weight:-0.397761  horsepower:-0.633365  \n",
            " 8-->price: 0.137510  weight: 0.149687  horsepower:-0.633365  \n",
            " 9-->price: 0.470011  weight: 0.399300  horsepower: 0.079171  \n"
          ],
          "name": "stdout"
        }
      ]
    },
    {
      "cell_type": "code",
      "metadata": {
        "id": "CeEXx9gxFHu6",
        "colab_type": "code",
        "colab": {}
      },
      "source": [
        "vehicle_types = data['Type']\n",
        "scaled_price_weight_horsepower_df = pd.DataFrame(scaled_price_weight_horsepower,columns=['scaled_price','scaled_weight','scaled_horsepower']) \n",
        "scaled_price_weight_horsepower_df.index = vehicle_types.index\n",
        "scaled_type_price_weight_horsepower_df = pd.concat([vehicle_types, scaled_price_weight_horsepower_df], axis = 1) \n",
        "#scaled_type_price_weight_horsepower_df.head()\n",
        "\n",
        "vehicle_types_uniq = vehicle_types.unique()"
      ],
      "execution_count": 0,
      "outputs": []
    },
    {
      "cell_type": "code",
      "metadata": {
        "id": "YOJTLjnWFuiv",
        "colab_type": "code",
        "colab": {
          "base_uri": "https://localhost:8080/",
          "height": 121
        },
        "outputId": "ea9de8fb-1a5f-4ebb-92af-5df47e089082"
      },
      "source": [
        "print('The types of vehicles, and the number of vehicles: ')\n",
        "for i in range(len(vehicle_types_uniq)):\n",
        "    print('{0:2d}:{1:>8} {2:3d}  '.format(i,vehicle_types_uniq[i],len(data.loc[data['Type']==vehicle_types_uniq[i]])))"
      ],
      "execution_count": 95,
      "outputs": [
        {
          "output_type": "stream",
          "text": [
            "The types of vehicles, and the number of vehicles: \n",
            " 0:   Sedan 234  \n",
            " 1:     SUV  59  \n",
            " 2:  Sports  45  \n",
            " 3:   Wagon  28  \n",
            " 4: Minivan  21  \n"
          ],
          "name": "stdout"
        }
      ]
    },
    {
      "cell_type": "code",
      "metadata": {
        "id": "bgkFcX5SAYwb",
        "colab_type": "code",
        "colab": {
          "base_uri": "https://localhost:8080/",
          "height": 87
        },
        "outputId": "54373d43-13d0-49bc-d1e4-c303ea783fd3"
      },
      "source": [
        "import scipy.stats as st\n",
        "# divide the Z normal curve into 5 bins  |  1  |   2 |    3    |   4  |  5  |\n",
        "#                                        |   cheap   | average |  expensive |\n",
        "print('    cheap',st.norm.ppf(1/5))\n",
        "print('    cheap',st.norm.ppf(2/5))\n",
        "print('  average',st.norm.ppf(3/5))\n",
        "print('expensive',st.norm.ppf(4/5))"
      ],
      "execution_count": 108,
      "outputs": [
        {
          "output_type": "stream",
          "text": [
            "    cheap -0.8416212335729142\n",
            "    cheap -0.2533471031357997\n",
            "  average 0.2533471031357997\n",
            "expensive 0.8416212335729143\n"
          ],
          "name": "stdout"
        }
      ]
    },
    {
      "cell_type": "code",
      "metadata": {
        "id": "D-mzGr_00AAR",
        "colab_type": "code",
        "colab": {
          "base_uri": "https://localhost:8080/",
          "height": 121
        },
        "outputId": "c1d9a6bf-3b53-4994-f7d9-6d1cc0f11e23"
      },
      "source": [
        "print('The types of vehicles and the corresponding price: ')\n",
        "for i in range(len(vehicle_types_uniq)):\n",
        "    print('{0:2d}:{1:>8} {2:3d}  '.format(i,vehicle_types_uniq[i],len(data.loc[data['Type']==vehicle_types_uniq[i]])),end=\"\")\n",
        "    mMax =  np.max(scaled_type_price_weight_horsepower_df[scaled_type_price_weight_horsepower_df['Type']==vehicle_types_uniq[i]]['scaled_price'])\n",
        "    mMin =  np.min(scaled_type_price_weight_horsepower_df[scaled_type_price_weight_horsepower_df['Type']==vehicle_types_uniq[i]]['scaled_price'])\n",
        "    mAve = np.mean(scaled_type_price_weight_horsepower_df[scaled_type_price_weight_horsepower_df['Type']==vehicle_types_uniq[i]]['scaled_price'])\n",
        "    print('{0:6.3f} <--> {1:5.3f}  mean={2:6.3f} '.format(mMin,mMax,mAve),end=\"\")\n",
        "    if mAve<st.norm.ppf(2/5):\n",
        "        print(\"   (cheap)   \",end=\"\")\n",
        "    else:\n",
        "        if mAve<st.norm.ppf(3/5):\n",
        "            print(\" (average)  \",end=\"\")\n",
        "        else:\n",
        "            print(\"(expensive) \",end=\"\")\n",
        "    print('')"
      ],
      "execution_count": 93,
      "outputs": [
        {
          "output_type": "stream",
          "text": [
            "The types of vehicles and the corresponding price: \n",
            " 0:   Sedan 234  -1.165 <--> 4.832  mean=-0.176  (average)  \n",
            " 1:     SUV  59  -0.816 <--> 2.215  mean= 0.073  (average)  \n",
            " 2:  Sports  45  -0.756 <--> 8.083  mean= 1.074 (expensive) \n",
            " 3:   Wagon  28  -1.083 <--> 1.393  mean=-0.193  (average)  \n",
            " 4: Minivan  21  -0.640 <--> 0.261  mean=-0.286    (cheap)   \n"
          ],
          "name": "stdout"
        }
      ]
    },
    {
      "cell_type": "code",
      "metadata": {
        "id": "bR4KfxPiF7K5",
        "colab_type": "code",
        "colab": {
          "base_uri": "https://localhost:8080/",
          "height": 121
        },
        "outputId": "db6660ef-ee06-448e-e83e-69e4f61d44f4"
      },
      "source": [
        "print('The types of vehicles, and the corresponding weight: ')\n",
        "for i in range(len(vehicle_types_uniq)):\n",
        "    print('{0:2d}:{1:>8} {2:3d}  '.format(i,vehicle_types_uniq[i],len(data.loc[data['Type']==vehicle_types_uniq[i]])),end=\"\")\n",
        "    mMax =  np.max(scaled_type_price_weight_horsepower_df[scaled_type_price_weight_horsepower_df['Type']==vehicle_types_uniq[i]]['scaled_weight'])\n",
        "    mMin =  np.min(scaled_type_price_weight_horsepower_df[scaled_type_price_weight_horsepower_df['Type']==vehicle_types_uniq[i]]['scaled_weight'])\n",
        "    mAve = np.mean(scaled_type_price_weight_horsepower_df[scaled_type_price_weight_horsepower_df['Type']==vehicle_types_uniq[i]]['scaled_weight'])\n",
        "    print('{0:6.3f} <--> {1:5.3f}  mean={2:6.3f} '.format(mMin,mMax,mAve),end=\"\")\n",
        "    if mAve<st.norm.ppf(2/5):\n",
        "        print(\"(small)   \",end=\"\")\n",
        "    else:\n",
        "        if mAve<st.norm.ppf(3/5):\n",
        "            print(\"(average)  \",end=\"\")\n",
        "        else:\n",
        "            print(\" (big) \",end=\"\")\n",
        "    print('')"
      ],
      "execution_count": 102,
      "outputs": [
        {
          "output_type": "stream",
          "text": [
            "The types of vehicles, and the corresponding weight: \n",
            " 0:   Sedan 234  -2.386 <--> 1.335  mean=-0.311 (small)   \n",
            " 1:     SUV  59  -0.945 <--> 4.067  mean= 1.227  (big) \n",
            " 2:  Sports  45  -1.897 <--> 1.272  mean=-0.337 (small)   \n",
            " 3:   Wagon  28  -1.571 <--> 1.620  mean=-0.095 (average)  \n",
            " 4: Minivan  21  -0.601 <--> 1.801  mean= 0.864  (big) \n"
          ],
          "name": "stdout"
        }
      ]
    },
    {
      "cell_type": "code",
      "metadata": {
        "id": "Jkv-z0_TG4yj",
        "colab_type": "code",
        "colab": {
          "base_uri": "https://localhost:8080/",
          "height": 121
        },
        "outputId": "04944acf-38da-40c9-baba-4cccb031600e"
      },
      "source": [
        "print('The types of vehicles, and the corresponding horsepower: ')\n",
        "for i in range(len(vehicle_types_uniq)):\n",
        "    print('{0:2d}:{1:>8} {2:3d}  '.format(i,vehicle_types_uniq[i],len(data.loc[data['Type']==vehicle_types_uniq[i]])),end=\"\")\n",
        "    mMax =  np.max(scaled_type_price_weight_horsepower_df[scaled_type_price_weight_horsepower_df['Type']==vehicle_types_uniq[i]]['scaled_horsepower'])\n",
        "    mMin =  np.min(scaled_type_price_weight_horsepower_df[scaled_type_price_weight_horsepower_df['Type']==vehicle_types_uniq[i]]['scaled_horsepower'])\n",
        "    mAve = np.mean(scaled_type_price_weight_horsepower_df[scaled_type_price_weight_horsepower_df['Type']==vehicle_types_uniq[i]]['scaled_horsepower'])\n",
        "    print('{0:6.3f} <--> {1:5.3f}  mean={2:6.3f} '.format(mMin,mMax,mAve),end=\"\")\n",
        "    if mAve<st.norm.ppf(2/5):\n",
        "        print(\"(small h/p)   \",end=\"\")\n",
        "    else:\n",
        "        if mAve<st.norm.ppf(3/5):\n",
        "            print(\"(average h/p)  \",end=\"\")\n",
        "        else:\n",
        "            print(\" (large h/p) \",end=\"\")\n",
        "    print('')"
      ],
      "execution_count": 105,
      "outputs": [
        {
          "output_type": "stream",
          "text": [
            "The types of vehicles, and the corresponding horsepower: \n",
            " 0:   Sedan 234  -2.016 <--> 3.970  mean=-0.209 (average h/p)  \n",
            " 1:     SUV  59  -1.203 <--> 1.789  mean= 0.287  (large h/p) \n",
            " 2:  Sports  45  -1.089 <--> 3.970  mean= 0.950  (large h/p) \n",
            " 3:   Wagon  28  -1.574 <--> 1.789  mean=-0.247 (average h/p)  \n",
            " 4: Minivan  21  -1.061 <--> 0.364  mean=-0.186 (average h/p)  \n"
          ],
          "name": "stdout"
        }
      ]
    },
    {
      "cell_type": "code",
      "metadata": {
        "id": "EYQlnG1cMC9l",
        "colab_type": "code",
        "colab": {
          "base_uri": "https://localhost:8080/",
          "height": 665
        },
        "outputId": "8375150b-de0d-4e8d-bc43-3ba7fbf7b2a5"
      },
      "source": [
        "fig = plt.figure(figsize=(10,10))\n",
        "ax = fig.add_subplot(111, projection='3d')\n",
        "ax.scatter(scaled_type_price_weight_horsepower_df[scaled_type_price_weight_horsepower_df['Type']=='Sedan']['scaled_price'],\n",
        "           scaled_type_price_weight_horsepower_df[scaled_type_price_weight_horsepower_df['Type']=='Sedan']['scaled_weight'],\n",
        "           scaled_type_price_weight_horsepower_df[scaled_type_price_weight_horsepower_df['Type']=='Sedan']['scaled_horsepower'],\n",
        "           c='skyblue', label='Sedan',s=10)\n",
        "ax.scatter(scaled_type_price_weight_horsepower_df[scaled_type_price_weight_horsepower_df['Type']=='SUV']['scaled_price'],\n",
        "           scaled_type_price_weight_horsepower_df[scaled_type_price_weight_horsepower_df['Type']=='SUV']['scaled_weight'],\n",
        "           scaled_type_price_weight_horsepower_df[scaled_type_price_weight_horsepower_df['Type']=='SUV']['scaled_horsepower'],\n",
        "           c='purple', label='SUV',s=10)\n",
        "ax.scatter(scaled_type_price_weight_horsepower_df[scaled_type_price_weight_horsepower_df['Type']=='Sports']['scaled_price'],\n",
        "           scaled_type_price_weight_horsepower_df[scaled_type_price_weight_horsepower_df['Type']=='Sports']['scaled_weight'],\n",
        "           scaled_type_price_weight_horsepower_df[scaled_type_price_weight_horsepower_df['Type']=='Sports']['scaled_horsepower'],\n",
        "           c='green', label='Sports',s=10)\n",
        "ax.scatter(scaled_type_price_weight_horsepower_df[scaled_type_price_weight_horsepower_df['Type']=='Wagon']['scaled_price'],\n",
        "           scaled_type_price_weight_horsepower_df[scaled_type_price_weight_horsepower_df['Type']=='Wagon']['scaled_weight'],\n",
        "           scaled_type_price_weight_horsepower_df[scaled_type_price_weight_horsepower_df['Type']=='Wagon']['scaled_horsepower'],\n",
        "           c='red', label='Wagon',s=10)\n",
        "ax.scatter(scaled_type_price_weight_horsepower_df[scaled_type_price_weight_horsepower_df['Type']=='Minivan']['scaled_price'],\n",
        "           scaled_type_price_weight_horsepower_df[scaled_type_price_weight_horsepower_df['Type']=='Minivan']['scaled_weight'],\n",
        "           scaled_type_price_weight_horsepower_df[scaled_type_price_weight_horsepower_df['Type']=='Minivan']['scaled_horsepower'],\n",
        "           c='pink', label='Minivan',s=10)\n",
        "ax.set_xlabel('scaled_price')\n",
        "ax.set_ylabel('scaled_weight')\n",
        "ax.set_zlabel('scaled_horsepower')\n",
        "ax.set_xlim(left=-2,right=8)\n",
        "ax.view_init(25, 225)   # (tilt up/down, turn right/left)\n",
        "ax.legend()\n",
        "plt.show()\n"
      ],
      "execution_count": 144,
      "outputs": [
        {
          "output_type": "execute_result",
          "data": {
            "text/plain": [
              "<mpl_toolkits.mplot3d.art3d.Path3DCollection at 0x7f1dd7c013c8>"
            ]
          },
          "metadata": {
            "tags": []
          },
          "execution_count": 144
        },
        {
          "output_type": "execute_result",
          "data": {
            "text/plain": [
              "<mpl_toolkits.mplot3d.art3d.Path3DCollection at 0x7f1dd7c01828>"
            ]
          },
          "metadata": {
            "tags": []
          },
          "execution_count": 144
        },
        {
          "output_type": "execute_result",
          "data": {
            "text/plain": [
              "<mpl_toolkits.mplot3d.art3d.Path3DCollection at 0x7f1dd7c01b70>"
            ]
          },
          "metadata": {
            "tags": []
          },
          "execution_count": 144
        },
        {
          "output_type": "execute_result",
          "data": {
            "text/plain": [
              "<mpl_toolkits.mplot3d.art3d.Path3DCollection at 0x7f1dd7c01dd8>"
            ]
          },
          "metadata": {
            "tags": []
          },
          "execution_count": 144
        },
        {
          "output_type": "execute_result",
          "data": {
            "text/plain": [
              "<mpl_toolkits.mplot3d.art3d.Path3DCollection at 0x7f1dd7c0f0f0>"
            ]
          },
          "metadata": {
            "tags": []
          },
          "execution_count": 144
        },
        {
          "output_type": "execute_result",
          "data": {
            "text/plain": [
              "Text(0.5, 0, 'scaled_price')"
            ]
          },
          "metadata": {
            "tags": []
          },
          "execution_count": 144
        },
        {
          "output_type": "execute_result",
          "data": {
            "text/plain": [
              "Text(0.5, 0, 'scaled_weight')"
            ]
          },
          "metadata": {
            "tags": []
          },
          "execution_count": 144
        },
        {
          "output_type": "execute_result",
          "data": {
            "text/plain": [
              "Text(0.5, 0, 'scaled_horsepower')"
            ]
          },
          "metadata": {
            "tags": []
          },
          "execution_count": 144
        },
        {
          "output_type": "execute_result",
          "data": {
            "text/plain": [
              "(-2.0, 8.0)"
            ]
          },
          "metadata": {
            "tags": []
          },
          "execution_count": 144
        },
        {
          "output_type": "execute_result",
          "data": {
            "text/plain": [
              "<matplotlib.legend.Legend at 0x7f1dd7cb4978>"
            ]
          },
          "metadata": {
            "tags": []
          },
          "execution_count": 144
        },
        {
          "output_type": "display_data",
          "data": {
            "image/png": "[encoded data removed]",
            "text/plain": [
              "<Figure size 720x720 with 1 Axes>"
            ]
          },
          "metadata": {
            "tags": [],
            "needs_background": "light"
          }
        }
      ]
    }
  ]
}
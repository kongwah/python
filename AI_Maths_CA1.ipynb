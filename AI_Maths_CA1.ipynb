{
  "nbformat": 4,
  "nbformat_minor": 0,
  "metadata": {
    "colab": {
      "name": "AI-Maths-CA1.ipynb",
      "provenance": [],
      "collapsed_sections": []
    },
    "kernelspec": {
      "name": "python3",
      "display_name": "Python 3"
    }
  },
  "cells": [
    {
      "cell_type": "code",
      "metadata": {
        "id": "USNwVPz8vsXW",
        "colab_type": "code",
        "colab": {}
      },
      "source": [
        "import pandas as pd\n",
        "import matplotlib.pyplot as plt\n",
        "import seaborn as sns; sns.set()\n",
        "import numpy as np\n",
        "import os"
      ],
      "execution_count": 0,
      "outputs": []
    },
    {
      "cell_type": "code",
      "metadata": {
        "id": "Vbiy1sUqv3dd",
        "colab_type": "code",
        "colab": {}
      },
      "source": [
        "# Python notebook cell to show more output, rather than just showing the last\n",
        "from IPython.core.interactiveshell import InteractiveShell\n",
        "InteractiveShell.ast_node_interactivity = \"all\"\n",
        "\n",
        "# pandas option to show more columns, rather than truncating some in the middle\n",
        "pd.set_option('display.max_rows', None)\n",
        "pd.set_option('display.max_columns', 20)\n",
        "pd.set_option('display.width', 200)\n",
        "pd.set_option('display.max_colwidth', -1)"
      ],
      "execution_count": 0,
      "outputs": []
    },
    {
      "cell_type": "code",
      "metadata": {
        "id": "H3PQjeBAv5tG",
        "colab_type": "code",
        "outputId": "bbfcf243-6b41-46a1-b2a4-f0fe465025fc",
        "colab": {
          "base_uri": "https://localhost:8080/",
          "height": 202
        }
      },
      "source": [
        "data = pd.read_csv(\"cars.csv\")\n",
        "#print(data)\n",
        "data.head()"
      ],
      "execution_count": 0,
      "outputs": [
        {
          "output_type": "execute_result",
          "data": {
            "text/html": [
              "<div>\n",
              "<style scoped>\n",
              "    .dataframe tbody tr th:only-of-type {\n",
              "        vertical-align: middle;\n",
              "    }\n",
              "\n",
              "    .dataframe tbody tr th {\n",
              "        vertical-align: top;\n",
              "    }\n",
              "\n",
              "    .dataframe thead th {\n",
              "        text-align: right;\n",
              "    }\n",
              "</style>\n",
              "<table border=\"1\" class=\"dataframe\">\n",
              "  <thead>\n",
              "    <tr style=\"text-align: right;\">\n",
              "      <th></th>\n",
              "      <th>Vehicle Name</th>\n",
              "      <th>Type</th>\n",
              "      <th>Drive</th>\n",
              "      <th>Retail</th>\n",
              "      <th>Dealer</th>\n",
              "      <th>Engine</th>\n",
              "      <th>Cylinders</th>\n",
              "      <th>Horsepower</th>\n",
              "      <th>CityMPG</th>\n",
              "      <th>HighwayMPG</th>\n",
              "      <th>Weight</th>\n",
              "      <th>Wheelbase</th>\n",
              "      <th>Length</th>\n",
              "      <th>Width</th>\n",
              "    </tr>\n",
              "  </thead>\n",
              "  <tbody>\n",
              "    <tr>\n",
              "      <th>0</th>\n",
              "      <td>Acura 3.5 RL</td>\n",
              "      <td>Sedan</td>\n",
              "      <td>Front-wheel</td>\n",
              "      <td>43755</td>\n",
              "      <td>39014</td>\n",
              "      <td>3.5</td>\n",
              "      <td>6</td>\n",
              "      <td>225</td>\n",
              "      <td>18</td>\n",
              "      <td>24</td>\n",
              "      <td>3880</td>\n",
              "      <td>115</td>\n",
              "      <td>197</td>\n",
              "      <td>72</td>\n",
              "    </tr>\n",
              "    <tr>\n",
              "      <th>1</th>\n",
              "      <td>Acura 3.5 RL Navigation</td>\n",
              "      <td>Sedan</td>\n",
              "      <td>Front-wheel</td>\n",
              "      <td>46100</td>\n",
              "      <td>41100</td>\n",
              "      <td>3.5</td>\n",
              "      <td>6</td>\n",
              "      <td>225</td>\n",
              "      <td>18</td>\n",
              "      <td>24</td>\n",
              "      <td>3893</td>\n",
              "      <td>115</td>\n",
              "      <td>197</td>\n",
              "      <td>72</td>\n",
              "    </tr>\n",
              "    <tr>\n",
              "      <th>2</th>\n",
              "      <td>Acura MDX</td>\n",
              "      <td>SUV</td>\n",
              "      <td>All-wheel</td>\n",
              "      <td>36945</td>\n",
              "      <td>33337</td>\n",
              "      <td>3.5</td>\n",
              "      <td>6</td>\n",
              "      <td>265</td>\n",
              "      <td>17</td>\n",
              "      <td>23</td>\n",
              "      <td>4451</td>\n",
              "      <td>106</td>\n",
              "      <td>189</td>\n",
              "      <td>77</td>\n",
              "    </tr>\n",
              "    <tr>\n",
              "      <th>3</th>\n",
              "      <td>Acura NSX S</td>\n",
              "      <td>Sports</td>\n",
              "      <td>Rear-wheel</td>\n",
              "      <td>89765</td>\n",
              "      <td>79978</td>\n",
              "      <td>3.2</td>\n",
              "      <td>6</td>\n",
              "      <td>290</td>\n",
              "      <td>17</td>\n",
              "      <td>24</td>\n",
              "      <td>3153</td>\n",
              "      <td>100</td>\n",
              "      <td>174</td>\n",
              "      <td>71</td>\n",
              "    </tr>\n",
              "    <tr>\n",
              "      <th>4</th>\n",
              "      <td>Acura RSX</td>\n",
              "      <td>Sedan</td>\n",
              "      <td>Front-wheel</td>\n",
              "      <td>23820</td>\n",
              "      <td>21761</td>\n",
              "      <td>2.0</td>\n",
              "      <td>4</td>\n",
              "      <td>200</td>\n",
              "      <td>24</td>\n",
              "      <td>31</td>\n",
              "      <td>2778</td>\n",
              "      <td>101</td>\n",
              "      <td>172</td>\n",
              "      <td>68</td>\n",
              "    </tr>\n",
              "  </tbody>\n",
              "</table>\n",
              "</div>"
            ],
            "text/plain": [
              "              Vehicle Name    Type        Drive  Retail  Dealer  Engine  Cylinders  Horsepower  CityMPG  HighwayMPG  Weight  Wheelbase  Length  Width\n",
              "0  Acura 3.5 RL             Sedan   Front-wheel  43755   39014   3.5     6          225         18       24          3880    115        197     72   \n",
              "1  Acura 3.5 RL Navigation  Sedan   Front-wheel  46100   41100   3.5     6          225         18       24          3893    115        197     72   \n",
              "2  Acura MDX                SUV     All-wheel    36945   33337   3.5     6          265         17       23          4451    106        189     77   \n",
              "3  Acura NSX S              Sports  Rear-wheel   89765   79978   3.2     6          290         17       24          3153    100        174     71   \n",
              "4  Acura RSX                Sedan   Front-wheel  23820   21761   2.0     4          200         24       31          2778    101        172     68   "
            ]
          },
          "metadata": {
            "tags": []
          },
          "execution_count": 24
        }
      ]
    },
    {
      "cell_type": "code",
      "metadata": {
        "id": "sdWxpoF3wcoA",
        "colab_type": "code",
        "colab": {}
      },
      "source": [
        "#data_reduced = data.drop(['Company'], axis=1)    # drop label 'Company' from column (axis=1)\n",
        "#data_reduced.head(20)"
      ],
      "execution_count": 0,
      "outputs": []
    },
    {
      "cell_type": "code",
      "metadata": {
        "id": "whYJwjKaxBkS",
        "colab_type": "code",
        "outputId": "7696eb13-1a0a-4537-92d3-20bfa26a15ed",
        "colab": {
          "base_uri": "https://localhost:8080/",
          "height": 202
        }
      },
      "source": [
        "price_weight_horsepower = data[['Retail','Weight','Horsepower']]\n",
        "price_weight_horsepower.head()"
      ],
      "execution_count": 0,
      "outputs": [
        {
          "output_type": "execute_result",
          "data": {
            "text/html": [
              "<div>\n",
              "<style scoped>\n",
              "    .dataframe tbody tr th:only-of-type {\n",
              "        vertical-align: middle;\n",
              "    }\n",
              "\n",
              "    .dataframe tbody tr th {\n",
              "        vertical-align: top;\n",
              "    }\n",
              "\n",
              "    .dataframe thead th {\n",
              "        text-align: right;\n",
              "    }\n",
              "</style>\n",
              "<table border=\"1\" class=\"dataframe\">\n",
              "  <thead>\n",
              "    <tr style=\"text-align: right;\">\n",
              "      <th></th>\n",
              "      <th>Retail</th>\n",
              "      <th>Weight</th>\n",
              "      <th>Horsepower</th>\n",
              "    </tr>\n",
              "  </thead>\n",
              "  <tbody>\n",
              "    <tr>\n",
              "      <th>0</th>\n",
              "      <td>43755</td>\n",
              "      <td>3880</td>\n",
              "      <td>225</td>\n",
              "    </tr>\n",
              "    <tr>\n",
              "      <th>1</th>\n",
              "      <td>46100</td>\n",
              "      <td>3893</td>\n",
              "      <td>225</td>\n",
              "    </tr>\n",
              "    <tr>\n",
              "      <th>2</th>\n",
              "      <td>36945</td>\n",
              "      <td>4451</td>\n",
              "      <td>265</td>\n",
              "    </tr>\n",
              "    <tr>\n",
              "      <th>3</th>\n",
              "      <td>89765</td>\n",
              "      <td>3153</td>\n",
              "      <td>290</td>\n",
              "    </tr>\n",
              "    <tr>\n",
              "      <th>4</th>\n",
              "      <td>23820</td>\n",
              "      <td>2778</td>\n",
              "      <td>200</td>\n",
              "    </tr>\n",
              "  </tbody>\n",
              "</table>\n",
              "</div>"
            ],
            "text/plain": [
              "   Retail  Weight  Horsepower\n",
              "0  43755   3880    225       \n",
              "1  46100   3893    225       \n",
              "2  36945   4451    265       \n",
              "3  89765   3153    290       \n",
              "4  23820   2778    200       "
            ]
          },
          "metadata": {
            "tags": []
          },
          "execution_count": 33
        }
      ]
    },
    {
      "cell_type": "code",
      "metadata": {
        "id": "svtcELyfvbU6",
        "colab_type": "code",
        "colab": {}
      },
      "source": [
        "# use sklearn StandardScaler to standardize the data to mean 0, standard deviation 1,  Z=(X-u)/s\n",
        "from sklearn.preprocessing import StandardScaler\n",
        "scaler = StandardScaler()"
      ],
      "execution_count": 0,
      "outputs": []
    },
    {
      "cell_type": "code",
      "metadata": {
        "id": "vWxfoInbxJ-b",
        "colab_type": "code",
        "outputId": "ad11c127-6964-41fb-d5e6-594f749c17ba",
        "colab": {
          "base_uri": "https://localhost:8080/",
          "height": 381
        }
      },
      "source": [
        "scaled_price_weight_horsepower = scaler.fit_transform(price_weight_horsepower)\n",
        "print(price_weight_horsepower.head(10))\n",
        "for i in range(10):\n",
        "  print('{0:2d}-->'.format(i),end=\"\")\n",
        "  print('price:{0:9.6f}  '.format(scaled_price_weight_horsepower[i][0]),end=\"\")\n",
        "  print('weight:{0:9.6f}  '.format(scaled_price_weight_horsepower[i][1]),end=\"\")\n",
        "  print('horsepower:{0:9.6f}  '.format(scaled_price_weight_horsepower[i][2]),end=\"\")\n",
        "  print('')"
      ],
      "execution_count": 0,
      "outputs": [
        {
          "output_type": "stream",
          "text": [
            "   Retail  Weight  Horsepower\n",
            "0  43755   3880    225       \n",
            "1  46100   3893    225       \n",
            "2  36945   4451    265       \n",
            "3  89765   3153    290       \n",
            "4  23820   2778    200       \n",
            "5  33195   3575    270       \n",
            "6  26990   3230    200       \n",
            "7  25940   3252    170       \n",
            "8  35940   3638    170       \n",
            "9  42490   3814    220       \n",
            " 0-->price: 0.534227  weight: 0.492905  horsepower: 0.150424  \n",
            " 1-->price: 0.653268  weight: 0.511342  horsepower: 0.150424  \n",
            " 2-->price: 0.188527  weight: 1.302729  horsepower: 0.720452  \n",
            " 3-->price: 2.869863  weight:-0.538168  horsepower: 1.076720  \n",
            " 4-->price:-0.477746  weight:-1.070014  horsepower:-0.205843  \n",
            " 5-->price:-0.001837  weight: 0.060336  horsepower: 0.791706  \n",
            " 6-->price:-0.316825  weight:-0.428962  horsepower:-0.205843  \n",
            " 7-->price:-0.370127  weight:-0.397761  horsepower:-0.633365  \n",
            " 8-->price: 0.137510  weight: 0.149687  horsepower:-0.633365  \n",
            " 9-->price: 0.470011  weight: 0.399300  horsepower: 0.079171  \n"
          ],
          "name": "stdout"
        }
      ]
    }
  ]
}